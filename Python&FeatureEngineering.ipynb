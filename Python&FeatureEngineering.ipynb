{
  "nbformat": 4,
  "nbformat_minor": 0,
  "metadata": {
    "colab": {
      "provenance": [],
      "authorship_tag": "ABX9TyOhVyHkZOY97SslhBrdgYRz",
      "include_colab_link": true
    },
    "kernelspec": {
      "name": "python3",
      "display_name": "Python 3"
    },
    "language_info": {
      "name": "python"
    }
  },
  "cells": [
    {
      "cell_type": "markdown",
      "metadata": {
        "id": "view-in-github",
        "colab_type": "text"
      },
      "source": [
        "<a href=\"https://colab.research.google.com/github/21IRV/IS170/blob/main/Python%26FeatureEngineering.ipynb\" target=\"_parent\"><img src=\"https://colab.research.google.com/assets/colab-badge.svg\" alt=\"Open In Colab\"/></a>"
      ]
    },
    {
      "cell_type": "code",
      "execution_count": null,
      "metadata": {
        "colab": {
          "base_uri": "https://localhost:8080/"
        },
        "id": "uEGEOqzbsECa",
        "outputId": "90818774-ee98-4901-a9d0-f465aea14e23"
      },
      "outputs": [
        {
          "output_type": "stream",
          "name": "stdout",
          "text": [
            "Hello Fresno State\n"
          ]
        }
      ],
      "source": [
        "print('Hello Fresno State') #this is a comment"
      ]
    },
    {
      "cell_type": "code",
      "source": [
        "print(2+8)"
      ],
      "metadata": {
        "colab": {
          "base_uri": "https://localhost:8080/"
        },
        "id": "QTLPcCDBs9gS",
        "outputId": "6c7026bd-4ada-410e-901d-89b684136923"
      },
      "execution_count": null,
      "outputs": [
        {
          "output_type": "stream",
          "name": "stdout",
          "text": [
            "10\n"
          ]
        }
      ]
    },
    {
      "cell_type": "code",
      "source": [
        "print(85-48)"
      ],
      "metadata": {
        "colab": {
          "base_uri": "https://localhost:8080/"
        },
        "id": "XfUoP_l8tE-T",
        "outputId": "2f8b45a8-3123-4a2b-ca3c-362ee23b65b5"
      },
      "execution_count": null,
      "outputs": [
        {
          "output_type": "stream",
          "name": "stdout",
          "text": [
            "37\n"
          ]
        }
      ]
    },
    {
      "cell_type": "code",
      "source": [
        "print(6*2)"
      ],
      "metadata": {
        "colab": {
          "base_uri": "https://localhost:8080/"
        },
        "id": "cStJiytBtIVP",
        "outputId": "b1754e8b-e20a-4969-fa12-c89885687a90"
      },
      "execution_count": null,
      "outputs": [
        {
          "output_type": "stream",
          "name": "stdout",
          "text": [
            "12\n"
          ]
        }
      ]
    },
    {
      "cell_type": "code",
      "source": [
        "print(20/5)"
      ],
      "metadata": {
        "colab": {
          "base_uri": "https://localhost:8080/"
        },
        "id": "yXsCsi4btLkO",
        "outputId": "93c5f595-2e56-4e4e-d152-253dc0c47dca"
      },
      "execution_count": null,
      "outputs": [
        {
          "output_type": "stream",
          "name": "stdout",
          "text": [
            "4.0\n"
          ]
        }
      ]
    },
    {
      "cell_type": "code",
      "source": [
        "print(2+7+8)"
      ],
      "metadata": {
        "colab": {
          "base_uri": "https://localhost:8080/"
        },
        "id": "IqWytnJEtPSd",
        "outputId": "232286f4-99a5-4b51-c524-65c4a01ae6ba"
      },
      "execution_count": null,
      "outputs": [
        {
          "output_type": "stream",
          "name": "stdout",
          "text": [
            "17\n"
          ]
        }
      ]
    },
    {
      "cell_type": "code",
      "source": [
        "print(8-2*4)"
      ],
      "metadata": {
        "colab": {
          "base_uri": "https://localhost:8080/"
        },
        "id": "OaVEjMmStU5t",
        "outputId": "2cc3b48a-964c-4745-db93-01aee4ced6cd"
      },
      "execution_count": null,
      "outputs": [
        {
          "output_type": "stream",
          "name": "stdout",
          "text": [
            "0\n"
          ]
        }
      ]
    },
    {
      "cell_type": "code",
      "source": [
        "print((7-2)*3)"
      ],
      "metadata": {
        "colab": {
          "base_uri": "https://localhost:8080/"
        },
        "id": "euDlcJYmtc86",
        "outputId": "50c22de8-160f-40d2-a4d5-a43b5fb10eba"
      },
      "execution_count": null,
      "outputs": [
        {
          "output_type": "stream",
          "name": "stdout",
          "text": [
            "15\n"
          ]
        }
      ]
    },
    {
      "cell_type": "code",
      "source": [
        "print(4*4*4)\n",
        "print(4**3)"
      ],
      "metadata": {
        "colab": {
          "base_uri": "https://localhost:8080/"
        },
        "id": "3newbYbptgvL",
        "outputId": "dd157ce3-bfb8-4fc7-edd1-5c9a35b5457a"
      },
      "execution_count": null,
      "outputs": [
        {
          "output_type": "stream",
          "name": "stdout",
          "text": [
            "64\n",
            "64\n"
          ]
        }
      ]
    },
    {
      "cell_type": "code",
      "source": [
        " print (3*4-3)\n",
        " print ((2*4)-3)\n",
        " print (15/(7-2))\n",
        " print (7+5-3)\n",
        " print ((7+5)-3)\n",
        " print (7+(5-3))\n",
        " print ((7*2)-(2+2))\n",
        " print ((3+2)**(4-2))"
      ],
      "metadata": {
        "colab": {
          "base_uri": "https://localhost:8080/"
        },
        "id": "018liCWJtn3k",
        "outputId": "7fe227e4-cb09-45e9-876e-888d1b1bfffe"
      },
      "execution_count": null,
      "outputs": [
        {
          "output_type": "stream",
          "name": "stdout",
          "text": [
            "9\n",
            "5\n",
            "3.0\n",
            "9\n",
            "9\n",
            "9\n",
            "10\n",
            "25\n"
          ]
        }
      ]
    },
    {
      "cell_type": "code",
      "source": [
        "print ('8+3')"
      ],
      "metadata": {
        "colab": {
          "base_uri": "https://localhost:8080/"
        },
        "id": "m3xD0g1OtvGi",
        "outputId": "fa6489ea-dd20-433a-aae2-967c3c48b927"
      },
      "execution_count": null,
      "outputs": [
        {
          "output_type": "stream",
          "name": "stdout",
          "text": [
            "8+3\n"
          ]
        }
      ]
    },
    {
      "cell_type": "code",
      "source": [
        " print (('7+5= '), (7+5))\n",
        " print ((7*8*2), ('is the answer to 7 * 8 * 2'))\n"
      ],
      "metadata": {
        "colab": {
          "base_uri": "https://localhost:8080/"
        },
        "id": "jfqgPIzkuHXT",
        "outputId": "03f29caf-3a1d-49ee-c4a3-737761d4e909"
      },
      "execution_count": null,
      "outputs": [
        {
          "output_type": "stream",
          "name": "stdout",
          "text": [
            "7+5=  12\n",
            "112 is the answer to 7 * 8 * 2\n"
          ]
        }
      ]
    },
    {
      "cell_type": "code",
      "source": [
        "#variables In Python"
      ],
      "metadata": {
        "id": "GJ_Ys3NTueY6"
      },
      "execution_count": null,
      "outputs": []
    },
    {
      "cell_type": "code",
      "source": [
        " year=2023"
      ],
      "metadata": {
        "id": "mkW-qBvAuiyB"
      },
      "execution_count": null,
      "outputs": []
    },
    {
      "cell_type": "code",
      "source": [
        "print (year)                 # notice that we DO NOT put year in quotes\n",
        "print (year+6)\n",
        "print (year-3)\n",
        "print ((year-2)+10)\n",
        "print (('The current year is'), (year))    #remember to put in the comma\n",
        "print (('Two years from now it will be'), (year+2))\n"
      ],
      "metadata": {
        "colab": {
          "base_uri": "https://localhost:8080/"
        },
        "id": "QRDmtTbFul5b",
        "outputId": "7af2446f-3dce-41fc-9c31-5f6daa6d641e"
      },
      "execution_count": null,
      "outputs": [
        {
          "output_type": "stream",
          "name": "stdout",
          "text": [
            "2023\n",
            "2029\n",
            "2020\n",
            "2031\n",
            "The current year is 2023\n",
            "Two years from now it will be 2025\n"
          ]
        }
      ]
    },
    {
      "cell_type": "code",
      "source": [
        " year=2024            #the variable year now refers to 2024\n",
        "\n",
        " name=('Fresno')\n",
        " name=('State')      #the variable name now refers to “State”\n"
      ],
      "metadata": {
        "id": "fqxIigyzu8py"
      },
      "execution_count": null,
      "outputs": []
    },
    {
      "cell_type": "code",
      "source": [
        "name = input ('Please enter your last name:  ') # you can enter a name and it will be stored"
      ],
      "metadata": {
        "colab": {
          "base_uri": "https://localhost:8080/"
        },
        "id": "nEPxOw5tvH4b",
        "outputId": "3954faa3-e78a-467d-b828-1768c59b11d9"
      },
      "execution_count": null,
      "outputs": [
        {
          "name": "stdout",
          "output_type": "stream",
          "text": [
            "Please enter your last name:  d\n"
          ]
        }
      ]
    },
    {
      "cell_type": "code",
      "source": [
        "a=1+4         # the variable a now refers to the value 5 \n",
        "b=5+9         # the variable b now refers to the value 14 \n",
        "c=a+b         # the variable c now refers to the value 19  \n",
        "c=c+1         # the variable c now refers to the value 20\n"
      ],
      "metadata": {
        "id": "1qB660YZvRRi"
      },
      "execution_count": null,
      "outputs": []
    },
    {
      "cell_type": "code",
      "source": [
        "a=10\n",
        "b=5\n",
        "result=a+b\n",
        "print ((a), ('+') , (b), ('='), (result))         \n"
      ],
      "metadata": {
        "colab": {
          "base_uri": "https://localhost:8080/"
        },
        "id": "znbgWOazvWEA",
        "outputId": "527358cd-5ecd-4470-afaa-dd323ca94fdc"
      },
      "execution_count": null,
      "outputs": [
        {
          "output_type": "stream",
          "name": "stdout",
          "text": [
            "10 + 5 = 15\n"
          ]
        }
      ]
    },
    {
      "cell_type": "code",
      "source": [
        "#build your own program I"
      ],
      "metadata": {
        "id": "-kzmcAdWxvKA"
      },
      "execution_count": null,
      "outputs": []
    },
    {
      "cell_type": "code",
      "source": [
        "#calc OT pay\n",
        "name = input ('Please enter your Full Name:  ')\n",
        "hours = int(input('Enter the hours worked this week: '))\n",
        "\n",
        "#Get the hourly pay rate.\n",
        "pay_rate = float(input('Enter the hourly pay rate: '))\n",
        "\n",
        "#Calculate the gross pay\n",
        "gross_pay = hours * pay_rate\n",
        "\n",
        "#Display the gross pay\n",
        "print(f'Gross pay: ${gross_pay:,.2f}')\n",
        "\n",
        "#ask for OtHrs and calc OtPay\n",
        "ohours = int(input('Enter the overtime hours worked this week: '))\n",
        "opay_rate = float(input('Enter the hourly overtime pay rate: '))\n",
        "overtime_pay = ohours * opay_rate\n",
        "print(f'Overtime pay: ${overtime_pay:,.2f}')\n",
        "combined_pay = overtime_pay + gross_pay\n",
        "print((name), (','), ('your total gross pay is: '), f'${combined_pay:,.2f}')\n"
      ],
      "metadata": {
        "colab": {
          "base_uri": "https://localhost:8080/"
        },
        "id": "qIEtZhD_vlc_",
        "outputId": "3332bdac-bae7-4fae-e0ff-10343ce82265"
      },
      "execution_count": null,
      "outputs": [
        {
          "output_type": "stream",
          "name": "stdout",
          "text": [
            "Please enter your Full Name:  Stephen Choi\n",
            "Enter the hours worked this week: 40\n",
            "Enter the hourly pay rate: 16\n",
            "Gross pay: $640.00\n",
            "Enter the overtime hours worked this week: 20\n",
            "Enter the hourly overtime pay rate: 24\n",
            "Overtime pay: $480.00\n",
            "Stephen Choi , your total gross pay is:  $1,120.00\n"
          ]
        }
      ]
    },
    {
      "cell_type": "code",
      "source": [
        "if  10==10:                      \n",
        "  print ('equal')               \n"
      ],
      "metadata": {
        "colab": {
          "base_uri": "https://localhost:8080/"
        },
        "id": "1gDXwpjxv59s",
        "outputId": "8dfa8b8b-a2c5-4f25-e2db-b7cce820430f"
      },
      "execution_count": null,
      "outputs": [
        {
          "output_type": "stream",
          "name": "stdout",
          "text": [
            "equal\n"
          ]
        }
      ]
    },
    {
      "cell_type": "code",
      "source": [
        "if (5*2)==10: \n",
        "    print ('The expression is equal')\n"
      ],
      "metadata": {
        "colab": {
          "base_uri": "https://localhost:8080/"
        },
        "id": "IkC98ZCWwNTH",
        "outputId": "88ae870d-a08b-4041-c42e-e723adc876e1"
      },
      "execution_count": null,
      "outputs": [
        {
          "output_type": "stream",
          "name": "stdout",
          "text": [
            "The expression is equal\n"
          ]
        }
      ]
    },
    {
      "cell_type": "code",
      "source": [
        "if (8+3)!=10:              #The symbols != mean “not equal”\n",
        "    print ('Not equal')\n"
      ],
      "metadata": {
        "colab": {
          "base_uri": "https://localhost:8080/"
        },
        "id": "x0s5Or-PwQ7F",
        "outputId": "ab675e1f-6664-4be8-e7f8-9cf309b41014"
      },
      "execution_count": null,
      "outputs": [
        {
          "output_type": "stream",
          "name": "stdout",
          "text": [
            "Not equal\n"
          ]
        }
      ]
    },
    {
      "cell_type": "code",
      "source": [
        "if  8>5:                   #will print\n",
        "    print ('8 is greater than 5')\n"
      ],
      "metadata": {
        "colab": {
          "base_uri": "https://localhost:8080/"
        },
        "id": "7qEgnVsDwTSq",
        "outputId": "5f66a89d-de4a-4e6c-f323-61c0a129d8e7"
      },
      "execution_count": null,
      "outputs": [
        {
          "output_type": "stream",
          "name": "stdout",
          "text": [
            "8 is greater than 5\n"
          ]
        }
      ]
    },
    {
      "cell_type": "code",
      "source": [
        "if 8<5:                  #will not print\n",
        "    print ('8 is less than 5')               \n"
      ],
      "metadata": {
        "id": "_Nce_6hqwVIO"
      },
      "execution_count": null,
      "outputs": []
    },
    {
      "cell_type": "code",
      "source": [
        "a=6\n",
        "b=7\n",
        "c=3\n",
        "d=('Fresno')\n",
        "e=('State')\n",
        "if a==(c*2):\n",
        "  print ('6=3*2')\n",
        "\n",
        "if d!=e:                                # != is used to test for inequality (not equal to)\n",
        "  print ('The names are not the same')\n",
        "  b=9 \n",
        "  print ('b has been set to 9')                                          \n"
      ],
      "metadata": {
        "id": "sZgooEWCxN_r",
        "colab": {
          "base_uri": "https://localhost:8080/"
        },
        "outputId": "9827181d-e054-49d8-81fc-b681c9e651f8"
      },
      "execution_count": null,
      "outputs": [
        {
          "output_type": "stream",
          "name": "stdout",
          "text": [
            "6=3*2\n",
            "The names are not the same\n",
            "b has been set to 9\n"
          ]
        }
      ]
    },
    {
      "cell_type": "code",
      "source": [
        "a=10\n",
        "b=5\n",
        "operation = ('unknown operation')\n",
        "result=('???')\n",
        "print ('Which operation should I perform + or - ?')\n",
        "operation=input()\n",
        "if operation==('+'):\n",
        "    result=a+b                               # Hit the Tab key to indent\n",
        "if operation==('-'):\n",
        "    result=a-b                                # Hit the Tab key to indent\n",
        "print ((a), (operation), (b) ,('='),(result))\n"
      ],
      "metadata": {
        "id": "B2_22AP-xR4T",
        "colab": {
          "base_uri": "https://localhost:8080/"
        },
        "outputId": "499e2986-c49c-41c5-cb04-85efb4efd22e"
      },
      "execution_count": null,
      "outputs": [
        {
          "output_type": "stream",
          "name": "stdout",
          "text": [
            "Which operation should I perform + or - ?\n",
            "+\n",
            "10 + 5 = 15\n"
          ]
        }
      ]
    },
    {
      "cell_type": "code",
      "source": [
        "#build your own Python Program II\n",
        "name = input ('Please enter your last name:  ')\n",
        "a = eval(input(\" Please enter an integer\"))\n",
        "b = eval(input(\" Please enter an integer\"))\n",
        "operation = ('unknown operation')\n",
        "result=('???')\n",
        "print ('Which operation should I perform +, -, *, / ?')\n",
        "operation=input()\n",
        "if operation==('+'):\n",
        "    result=a+b                               # Hit the Tab key to indent\n",
        "if operation==('-'):\n",
        "    result=a-b                                # Hit the Tab key to indent\n",
        "if operation==('*'):\n",
        "    result=a*b                               # Hit the Tab key to indent\n",
        "if operation==('/'):\n",
        "    result=a/b     \n",
        "print ((a), (operation), (b) ,('='),(result))\n"
      ],
      "metadata": {
        "id": "nXycM_4Yxacl",
        "colab": {
          "base_uri": "https://localhost:8080/"
        },
        "outputId": "84a0c5b2-58f2-49d1-fdc1-e20b05e31c20"
      },
      "execution_count": null,
      "outputs": [
        {
          "output_type": "stream",
          "name": "stdout",
          "text": [
            "Please enter your last name:  choi\n",
            " Please enter an integer2\n",
            " Please enter an integer3\n",
            "Which operation should I perform +, -, *, / ?\n",
            "*\n",
            "2 * 3 = 6\n"
          ]
        }
      ]
    }
  ]
}