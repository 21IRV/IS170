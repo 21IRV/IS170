{
  "nbformat": 4,
  "nbformat_minor": 0,
  "metadata": {
    "colab": {
      "provenance": [],
      "authorship_tag": "ABX9TyPcAhqS/Fl2gmKBeyNOYLeZ",
      "include_colab_link": true
    },
    "kernelspec": {
      "name": "python3",
      "display_name": "Python 3"
    },
    "language_info": {
      "name": "python"
    }
  },
  "cells": [
    {
      "cell_type": "markdown",
      "metadata": {
        "id": "view-in-github",
        "colab_type": "text"
      },
      "source": [
        "<a href=\"https://colab.research.google.com/github/21IRV/IS170/blob/main/hw4_Del_Rio.ipynb\" target=\"_parent\"><img src=\"https://colab.research.google.com/assets/colab-badge.svg\" alt=\"Open In Colab\"/></a>"
      ]
    },
    {
      "cell_type": "markdown",
      "source": [
        "import and clean data"
      ],
      "metadata": {
        "id": "5gkHy3tCDKQm"
      }
    },
    {
      "cell_type": "code",
      "execution_count": null,
      "metadata": {
        "id": "8N3FtH3QCjcy"
      },
      "outputs": [],
      "source": [
        "# call the required libraries\n",
        "import numpy as np\n",
        "import pandas as pd\n",
        "import matplotlib.pyplot as plt\n",
        "from sklearn.cluster import KMeans"
      ]
    },
    {
      "cell_type": "code",
      "source": [
        "#load the data\n",
        "df=pd.read_csv(\"/content/ign_scores.csv\")\n",
        "df.head()"
      ],
      "metadata": {
        "colab": {
          "base_uri": "https://localhost:8080/",
          "height": 248
        },
        "id": "eiTnkCC8CsGC",
        "outputId": "3039234a-2ccf-4eba-b5ae-19f0afce64a6"
      },
      "execution_count": null,
      "outputs": [
        {
          "output_type": "execute_result",
          "data": {
            "text/plain": [
              "           Platform    Action  Action, Adventure  Adventure  Fighting  \\\n",
              "0         Dreamcast  6.882857           7.511111   6.281818  8.200000   \n",
              "1  Game Boy Advance  6.373077           7.507692   6.057143  6.226316   \n",
              "2    Game Boy Color  6.272727           8.166667   5.307692  4.500000   \n",
              "3          GameCube  6.532584           7.608333   6.753846  7.422222   \n",
              "4      Nintendo 3DS  6.670833           7.481818   7.414286  6.614286   \n",
              "\n",
              "   Platformer    Puzzle       RPG    Racing   Shooter  Simulation    Sports  \\\n",
              "0    8.340000  8.088889  7.700000  7.042500  7.616667    7.628571  7.272222   \n",
              "1    6.970588  6.532143  7.542857  6.657143  6.444444    6.928571  6.694444   \n",
              "2    6.352941  6.583333  7.285714  5.897436  4.500000    5.900000  5.790698   \n",
              "3    6.665714  6.133333  7.890909  6.852632  6.981818    8.028571  7.481319   \n",
              "4    7.503448  8.000000  7.719231  6.900000  7.033333    7.700000  6.388889   \n",
              "\n",
              "   Strategy  \n",
              "0  6.433333  \n",
              "1  7.175000  \n",
              "2  7.400000  \n",
              "3  7.116667  \n",
              "4  7.900000  "
            ],
            "text/html": [
              "\n",
              "  <div id=\"df-a08db2ae-1963-4618-ac6f-c00e34045c42\">\n",
              "    <div class=\"colab-df-container\">\n",
              "      <div>\n",
              "<style scoped>\n",
              "    .dataframe tbody tr th:only-of-type {\n",
              "        vertical-align: middle;\n",
              "    }\n",
              "\n",
              "    .dataframe tbody tr th {\n",
              "        vertical-align: top;\n",
              "    }\n",
              "\n",
              "    .dataframe thead th {\n",
              "        text-align: right;\n",
              "    }\n",
              "</style>\n",
              "<table border=\"1\" class=\"dataframe\">\n",
              "  <thead>\n",
              "    <tr style=\"text-align: right;\">\n",
              "      <th></th>\n",
              "      <th>Platform</th>\n",
              "      <th>Action</th>\n",
              "      <th>Action, Adventure</th>\n",
              "      <th>Adventure</th>\n",
              "      <th>Fighting</th>\n",
              "      <th>Platformer</th>\n",
              "      <th>Puzzle</th>\n",
              "      <th>RPG</th>\n",
              "      <th>Racing</th>\n",
              "      <th>Shooter</th>\n",
              "      <th>Simulation</th>\n",
              "      <th>Sports</th>\n",
              "      <th>Strategy</th>\n",
              "    </tr>\n",
              "  </thead>\n",
              "  <tbody>\n",
              "    <tr>\n",
              "      <th>0</th>\n",
              "      <td>Dreamcast</td>\n",
              "      <td>6.882857</td>\n",
              "      <td>7.511111</td>\n",
              "      <td>6.281818</td>\n",
              "      <td>8.200000</td>\n",
              "      <td>8.340000</td>\n",
              "      <td>8.088889</td>\n",
              "      <td>7.700000</td>\n",
              "      <td>7.042500</td>\n",
              "      <td>7.616667</td>\n",
              "      <td>7.628571</td>\n",
              "      <td>7.272222</td>\n",
              "      <td>6.433333</td>\n",
              "    </tr>\n",
              "    <tr>\n",
              "      <th>1</th>\n",
              "      <td>Game Boy Advance</td>\n",
              "      <td>6.373077</td>\n",
              "      <td>7.507692</td>\n",
              "      <td>6.057143</td>\n",
              "      <td>6.226316</td>\n",
              "      <td>6.970588</td>\n",
              "      <td>6.532143</td>\n",
              "      <td>7.542857</td>\n",
              "      <td>6.657143</td>\n",
              "      <td>6.444444</td>\n",
              "      <td>6.928571</td>\n",
              "      <td>6.694444</td>\n",
              "      <td>7.175000</td>\n",
              "    </tr>\n",
              "    <tr>\n",
              "      <th>2</th>\n",
              "      <td>Game Boy Color</td>\n",
              "      <td>6.272727</td>\n",
              "      <td>8.166667</td>\n",
              "      <td>5.307692</td>\n",
              "      <td>4.500000</td>\n",
              "      <td>6.352941</td>\n",
              "      <td>6.583333</td>\n",
              "      <td>7.285714</td>\n",
              "      <td>5.897436</td>\n",
              "      <td>4.500000</td>\n",
              "      <td>5.900000</td>\n",
              "      <td>5.790698</td>\n",
              "      <td>7.400000</td>\n",
              "    </tr>\n",
              "    <tr>\n",
              "      <th>3</th>\n",
              "      <td>GameCube</td>\n",
              "      <td>6.532584</td>\n",
              "      <td>7.608333</td>\n",
              "      <td>6.753846</td>\n",
              "      <td>7.422222</td>\n",
              "      <td>6.665714</td>\n",
              "      <td>6.133333</td>\n",
              "      <td>7.890909</td>\n",
              "      <td>6.852632</td>\n",
              "      <td>6.981818</td>\n",
              "      <td>8.028571</td>\n",
              "      <td>7.481319</td>\n",
              "      <td>7.116667</td>\n",
              "    </tr>\n",
              "    <tr>\n",
              "      <th>4</th>\n",
              "      <td>Nintendo 3DS</td>\n",
              "      <td>6.670833</td>\n",
              "      <td>7.481818</td>\n",
              "      <td>7.414286</td>\n",
              "      <td>6.614286</td>\n",
              "      <td>7.503448</td>\n",
              "      <td>8.000000</td>\n",
              "      <td>7.719231</td>\n",
              "      <td>6.900000</td>\n",
              "      <td>7.033333</td>\n",
              "      <td>7.700000</td>\n",
              "      <td>6.388889</td>\n",
              "      <td>7.900000</td>\n",
              "    </tr>\n",
              "  </tbody>\n",
              "</table>\n",
              "</div>\n",
              "      <button class=\"colab-df-convert\" onclick=\"convertToInteractive('df-a08db2ae-1963-4618-ac6f-c00e34045c42')\"\n",
              "              title=\"Convert this dataframe to an interactive table.\"\n",
              "              style=\"display:none;\">\n",
              "        \n",
              "  <svg xmlns=\"http://www.w3.org/2000/svg\" height=\"24px\"viewBox=\"0 0 24 24\"\n",
              "       width=\"24px\">\n",
              "    <path d=\"M0 0h24v24H0V0z\" fill=\"none\"/>\n",
              "    <path d=\"M18.56 5.44l.94 2.06.94-2.06 2.06-.94-2.06-.94-.94-2.06-.94 2.06-2.06.94zm-11 1L8.5 8.5l.94-2.06 2.06-.94-2.06-.94L8.5 2.5l-.94 2.06-2.06.94zm10 10l.94 2.06.94-2.06 2.06-.94-2.06-.94-.94-2.06-.94 2.06-2.06.94z\"/><path d=\"M17.41 7.96l-1.37-1.37c-.4-.4-.92-.59-1.43-.59-.52 0-1.04.2-1.43.59L10.3 9.45l-7.72 7.72c-.78.78-.78 2.05 0 2.83L4 21.41c.39.39.9.59 1.41.59.51 0 1.02-.2 1.41-.59l7.78-7.78 2.81-2.81c.8-.78.8-2.07 0-2.86zM5.41 20L4 18.59l7.72-7.72 1.47 1.35L5.41 20z\"/>\n",
              "  </svg>\n",
              "      </button>\n",
              "      \n",
              "  <style>\n",
              "    .colab-df-container {\n",
              "      display:flex;\n",
              "      flex-wrap:wrap;\n",
              "      gap: 12px;\n",
              "    }\n",
              "\n",
              "    .colab-df-convert {\n",
              "      background-color: #E8F0FE;\n",
              "      border: none;\n",
              "      border-radius: 50%;\n",
              "      cursor: pointer;\n",
              "      display: none;\n",
              "      fill: #1967D2;\n",
              "      height: 32px;\n",
              "      padding: 0 0 0 0;\n",
              "      width: 32px;\n",
              "    }\n",
              "\n",
              "    .colab-df-convert:hover {\n",
              "      background-color: #E2EBFA;\n",
              "      box-shadow: 0px 1px 2px rgba(60, 64, 67, 0.3), 0px 1px 3px 1px rgba(60, 64, 67, 0.15);\n",
              "      fill: #174EA6;\n",
              "    }\n",
              "\n",
              "    [theme=dark] .colab-df-convert {\n",
              "      background-color: #3B4455;\n",
              "      fill: #D2E3FC;\n",
              "    }\n",
              "\n",
              "    [theme=dark] .colab-df-convert:hover {\n",
              "      background-color: #434B5C;\n",
              "      box-shadow: 0px 1px 3px 1px rgba(0, 0, 0, 0.15);\n",
              "      filter: drop-shadow(0px 1px 2px rgba(0, 0, 0, 0.3));\n",
              "      fill: #FFFFFF;\n",
              "    }\n",
              "  </style>\n",
              "\n",
              "      <script>\n",
              "        const buttonEl =\n",
              "          document.querySelector('#df-a08db2ae-1963-4618-ac6f-c00e34045c42 button.colab-df-convert');\n",
              "        buttonEl.style.display =\n",
              "          google.colab.kernel.accessAllowed ? 'block' : 'none';\n",
              "\n",
              "        async function convertToInteractive(key) {\n",
              "          const element = document.querySelector('#df-a08db2ae-1963-4618-ac6f-c00e34045c42');\n",
              "          const dataTable =\n",
              "            await google.colab.kernel.invokeFunction('convertToInteractive',\n",
              "                                                     [key], {});\n",
              "          if (!dataTable) return;\n",
              "\n",
              "          const docLinkHtml = 'Like what you see? Visit the ' +\n",
              "            '<a target=\"_blank\" href=https://colab.research.google.com/notebooks/data_table.ipynb>data table notebook</a>'\n",
              "            + ' to learn more about interactive tables.';\n",
              "          element.innerHTML = '';\n",
              "          dataTable['output_type'] = 'display_data';\n",
              "          await google.colab.output.renderOutput(dataTable, element);\n",
              "          const docLink = document.createElement('div');\n",
              "          docLink.innerHTML = docLinkHtml;\n",
              "          element.appendChild(docLink);\n",
              "        }\n",
              "      </script>\n",
              "    </div>\n",
              "  </div>\n",
              "  "
            ]
          },
          "metadata": {},
          "execution_count": 13
        }
      ]
    },
    {
      "cell_type": "code",
      "source": [
        "df.dropna(inplace=True)\n",
        "df.shape"
      ],
      "metadata": {
        "colab": {
          "base_uri": "https://localhost:8080/"
        },
        "id": "O9UpJ_hwDIo6",
        "outputId": "7bf4430b-77e5-4516-c891-5c7ba9bc3ec5"
      },
      "execution_count": null,
      "outputs": [
        {
          "output_type": "execute_result",
          "data": {
            "text/plain": [
              "(21, 13)"
            ]
          },
          "metadata": {},
          "execution_count": 14
        }
      ]
    },
    {
      "cell_type": "markdown",
      "source": [
        "with this data i am going to attempt to identify means through cluster points in \"Racing\" and \"Shooter\" catergories. "
      ],
      "metadata": {
        "id": "u-wCFY5Haqhm"
      }
    },
    {
      "cell_type": "code",
      "source": [
        "plt.scatter(df['Racing'],df['Shooter'],c='red', s=2) \n",
        "plt.xlabel(\"Racing by console\")\n",
        "plt.ylabel(\"shooters by console\")"
      ],
      "metadata": {
        "colab": {
          "base_uri": "https://localhost:8080/",
          "height": 296
        },
        "id": "pAS95jTiJY6z",
        "outputId": "c45709db-d4eb-4868-a7b7-4dbcf3741cdb"
      },
      "execution_count": null,
      "outputs": [
        {
          "output_type": "execute_result",
          "data": {
            "text/plain": [
              "Text(0, 0.5, 'shooters by console')"
            ]
          },
          "metadata": {},
          "execution_count": 35
        },
        {
          "output_type": "display_data",
          "data": {
            "text/plain": [
              "<Figure size 432x288 with 1 Axes>"
            ],
            "image/png": "[encoded data removed]"
          },
          "metadata": {
            "needs_background": "light"
          }
        }
      ]
    },
    {
      "cell_type": "code",
      "source": [
        "#For now, we'll try k value 2\n",
        "k=3\n",
        "X=np.array(list(zip(df['Racing'], df['Shooter'])))\n",
        "model=KMeans(n_clusters=k)\n",
        "kmeans=model.fit(X)\n",
        "labels=model.predict(X)\n",
        "centroids=model.cluster_centers_\n",
        "\n",
        "print(labels)\n",
        "print(centroids)"
      ],
      "metadata": {
        "colab": {
          "base_uri": "https://localhost:8080/"
        },
        "id": "FeSO9kNeTK18",
        "outputId": "9f6e058c-51ff-4738-dfe5-17e8aa54faaf"
      },
      "execution_count": null,
      "outputs": [
        {
          "output_type": "stream",
          "name": "stdout",
          "text": [
            "[2 0 1 0 0 2 0 0 0 0 0 0 2 0 2 1 0 2 2 2 0]\n",
            "[[6.7497953  6.85569431]\n",
            " [5.45455128 5.48989899]\n",
            " [7.15050054 7.70964822]]\n"
          ]
        }
      ]
    },
    {
      "cell_type": "code",
      "source": [
        "#Plot the data and centroids on a scatter plot\n",
        "#map the labels to colors\n",
        "\n",
        "c=['m','g','b','r','y','c']\n",
        "colors=[c[i] for i in labels]\n",
        "\n",
        "plt.scatter(df['Racing'],df['Shooter'],c=colors, s=18)\n",
        "plt.scatter(centroids[:,0], centroids[:,1], marker='*', s=100, c='black')"
      ],
      "metadata": {
        "colab": {
          "base_uri": "https://localhost:8080/",
          "height": 282
        },
        "id": "MganX489LiIN",
        "outputId": "4d10c2c4-b5c9-48fe-914b-236eab8a9031"
      },
      "execution_count": null,
      "outputs": [
        {
          "output_type": "execute_result",
          "data": {
            "text/plain": [
              "<matplotlib.collections.PathCollection at 0x7fb658dc7a00>"
            ]
          },
          "metadata": {},
          "execution_count": 47
        },
        {
          "output_type": "display_data",
          "data": {
            "text/plain": [
              "<Figure size 432x288 with 1 Axes>"
            ],
            "image/png": "[encoded data removed]"
          },
          "metadata": {
            "needs_background": "light"
          }
        }
      ]
    },
    {
      "cell_type": "code",
      "source": [
        "#Using the model that you have just trained,  \n",
        "#you can use it to predict what cluster for any point \n",
        "\n",
        "#making preductions\n",
        "cluster=model.predict([[7,7]])[0]\n",
        "print(c[cluster]) \n",
        "\n",
        "cluster=model.predict([[6.5,6]])[0]\n",
        "print(c[cluster]) \n",
        "\n",
        "cluster=model.predict([[8,8]])[0]\n",
        "print(c[cluster])"
      ],
      "metadata": {
        "colab": {
          "base_uri": "https://localhost:8080/"
        },
        "id": "_Wx8FsQ2LtHL",
        "outputId": "4eaa69e2-5842-4d72-a354-f924fd6beaec"
      },
      "execution_count": null,
      "outputs": [
        {
          "output_type": "stream",
          "name": "stdout",
          "text": [
            "m\n",
            "m\n",
            "b\n"
          ]
        }
      ]
    },
    {
      "cell_type": "code",
      "source": [
        "#obtaining the silhouette coefficient(score)\n",
        "from sklearn.metrics import silhouette_score\n",
        "\n",
        "model=KMeans(n_clusters=2)\n",
        "model.fit(X)\n",
        "label=model.predict(X)\n",
        "\n",
        "print(f'silhouette Score (n=3):  {silhouette_score(X,label)}')"
      ],
      "metadata": {
        "colab": {
          "base_uri": "https://localhost:8080/"
        },
        "id": "0MOXmNOuLy10",
        "outputId": "0d693e1f-8196-4d19-cf78-a9605c34b858"
      },
      "execution_count": null,
      "outputs": [
        {
          "output_type": "stream",
          "name": "stdout",
          "text": [
            "silhouette Score (n=3):  0.5975185188666797\n"
          ]
        }
      ]
    }
  ]
}