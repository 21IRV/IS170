{
  "nbformat": 4,
  "nbformat_minor": 0,
  "metadata": {
    "colab": {
      "provenance": [],
      "authorship_tag": "ABX9TyNpZFevDxtzJW4otxv174oy",
      "include_colab_link": true
    },
    "kernelspec": {
      "name": "python3",
      "display_name": "Python 3"
    },
    "language_info": {
      "name": "python"
    }
  },
  "cells": [
    {
      "cell_type": "markdown",
      "metadata": {
        "id": "view-in-github",
        "colab_type": "text"
      },
      "source": [
        "<a href=\"https://colab.research.google.com/github/21IRV/IS170/blob/main/K_NearestNeighbors.ipynb\" target=\"_parent\"><img src=\"https://colab.research.google.com/assets/colab-badge.svg\" alt=\"Open In Colab\"/></a>"
      ]
    },
    {
      "cell_type": "code",
      "execution_count": null,
      "metadata": {
        "id": "0iEodkTUgLxn"
      },
      "outputs": [],
      "source": [
        "#load libraries and read file\n",
        "import pandas as pd\n",
        "import numpy as np\n",
        "from sklearn import datasets\n",
        "from sklearn import preprocessing \n",
        "from sklearn.preprocessing import LabelEncoder\n",
        "from sklearn.preprocessing import OneHotEncoder\n",
        "\n",
        "df = pd.read_csv(\"/content/Loan_Default.csv\")"
      ]
    },
    {
      "cell_type": "code",
      "source": [
        "df.columns\n",
        "#Credit_Score, property_value, income, dtir1\n",
        "df.drop(df.columns.difference(['Credit_Score','property_value', 'income','dtir1']), 1, inplace=True)\n",
        "df\n"
      ],
      "metadata": {
        "colab": {
          "base_uri": "https://localhost:8080/",
          "height": 478
        },
        "id": "SBX2_YFFmCb5",
        "outputId": "46247a21-26b3-463a-dd6d-d6f9fbc0109d"
      },
      "execution_count": null,
      "outputs": [
        {
          "output_type": "stream",
          "name": "stderr",
          "text": [
            "<ipython-input-5-84c70230c52d>:3: FutureWarning: In a future version of pandas all arguments of DataFrame.drop except for the argument 'labels' will be keyword-only.\n",
            "  df.drop(df.columns.difference(['Credit_Score','property_value', 'income','dtir1']), 1, inplace=True)\n"
          ]
        },
        {
          "output_type": "execute_result",
          "data": {
            "text/plain": [
              "        property_value   income  Credit_Score  dtir1\n",
              "0             118000.0   1740.0           758   45.0\n",
              "1                  NaN   4980.0           552    NaN\n",
              "2             508000.0   9480.0           834   46.0\n",
              "3             658000.0  11880.0           587   42.0\n",
              "4             758000.0  10440.0           602   39.0\n",
              "...                ...      ...           ...    ...\n",
              "148665        608000.0   7860.0           659   48.0\n",
              "148666        788000.0   7140.0           569   15.0\n",
              "148667        728000.0   6900.0           702   49.0\n",
              "148668        278000.0   7140.0           737   29.0\n",
              "148669        558000.0   7260.0           830   44.0\n",
              "\n",
              "[148670 rows x 4 columns]"
            ],
            "text/html": [
              "\n",
              "  <div id=\"df-2023099f-0b9c-48ad-88fd-d6ab182ac11e\">\n",
              "    <div class=\"colab-df-container\">\n",
              "      <div>\n",
              "<style scoped>\n",
              "    .dataframe tbody tr th:only-of-type {\n",
              "        vertical-align: middle;\n",
              "    }\n",
              "\n",
              "    .dataframe tbody tr th {\n",
              "        vertical-align: top;\n",
              "    }\n",
              "\n",
              "    .dataframe thead th {\n",
              "        text-align: right;\n",
              "    }\n",
              "</style>\n",
              "<table border=\"1\" class=\"dataframe\">\n",
              "  <thead>\n",
              "    <tr style=\"text-align: right;\">\n",
              "      <th></th>\n",
              "      <th>property_value</th>\n",
              "      <th>income</th>\n",
              "      <th>Credit_Score</th>\n",
              "      <th>dtir1</th>\n",
              "    </tr>\n",
              "  </thead>\n",
              "  <tbody>\n",
              "    <tr>\n",
              "      <th>0</th>\n",
              "      <td>118000.0</td>\n",
              "      <td>1740.0</td>\n",
              "      <td>758</td>\n",
              "      <td>45.0</td>\n",
              "    </tr>\n",
              "    <tr>\n",
              "      <th>1</th>\n",
              "      <td>NaN</td>\n",
              "      <td>4980.0</td>\n",
              "      <td>552</td>\n",
              "      <td>NaN</td>\n",
              "    </tr>\n",
              "    <tr>\n",
              "      <th>2</th>\n",
              "      <td>508000.0</td>\n",
              "      <td>9480.0</td>\n",
              "      <td>834</td>\n",
              "      <td>46.0</td>\n",
              "    </tr>\n",
              "    <tr>\n",
              "      <th>3</th>\n",
              "      <td>658000.0</td>\n",
              "      <td>11880.0</td>\n",
              "      <td>587</td>\n",
              "      <td>42.0</td>\n",
              "    </tr>\n",
              "    <tr>\n",
              "      <th>4</th>\n",
              "      <td>758000.0</td>\n",
              "      <td>10440.0</td>\n",
              "      <td>602</td>\n",
              "      <td>39.0</td>\n",
              "    </tr>\n",
              "    <tr>\n",
              "      <th>...</th>\n",
              "      <td>...</td>\n",
              "      <td>...</td>\n",
              "      <td>...</td>\n",
              "      <td>...</td>\n",
              "    </tr>\n",
              "    <tr>\n",
              "      <th>148665</th>\n",
              "      <td>608000.0</td>\n",
              "      <td>7860.0</td>\n",
              "      <td>659</td>\n",
              "      <td>48.0</td>\n",
              "    </tr>\n",
              "    <tr>\n",
              "      <th>148666</th>\n",
              "      <td>788000.0</td>\n",
              "      <td>7140.0</td>\n",
              "      <td>569</td>\n",
              "      <td>15.0</td>\n",
              "    </tr>\n",
              "    <tr>\n",
              "      <th>148667</th>\n",
              "      <td>728000.0</td>\n",
              "      <td>6900.0</td>\n",
              "      <td>702</td>\n",
              "      <td>49.0</td>\n",
              "    </tr>\n",
              "    <tr>\n",
              "      <th>148668</th>\n",
              "      <td>278000.0</td>\n",
              "      <td>7140.0</td>\n",
              "      <td>737</td>\n",
              "      <td>29.0</td>\n",
              "    </tr>\n",
              "    <tr>\n",
              "      <th>148669</th>\n",
              "      <td>558000.0</td>\n",
              "      <td>7260.0</td>\n",
              "      <td>830</td>\n",
              "      <td>44.0</td>\n",
              "    </tr>\n",
              "  </tbody>\n",
              "</table>\n",
              "<p>148670 rows × 4 columns</p>\n",
              "</div>\n",
              "      <button class=\"colab-df-convert\" onclick=\"convertToInteractive('df-2023099f-0b9c-48ad-88fd-d6ab182ac11e')\"\n",
              "              title=\"Convert this dataframe to an interactive table.\"\n",
              "              style=\"display:none;\">\n",
              "        \n",
              "  <svg xmlns=\"http://www.w3.org/2000/svg\" height=\"24px\"viewBox=\"0 0 24 24\"\n",
              "       width=\"24px\">\n",
              "    <path d=\"M0 0h24v24H0V0z\" fill=\"none\"/>\n",
              "    <path d=\"M18.56 5.44l.94 2.06.94-2.06 2.06-.94-2.06-.94-.94-2.06-.94 2.06-2.06.94zm-11 1L8.5 8.5l.94-2.06 2.06-.94-2.06-.94L8.5 2.5l-.94 2.06-2.06.94zm10 10l.94 2.06.94-2.06 2.06-.94-2.06-.94-.94-2.06-.94 2.06-2.06.94z\"/><path d=\"M17.41 7.96l-1.37-1.37c-.4-.4-.92-.59-1.43-.59-.52 0-1.04.2-1.43.59L10.3 9.45l-7.72 7.72c-.78.78-.78 2.05 0 2.83L4 21.41c.39.39.9.59 1.41.59.51 0 1.02-.2 1.41-.59l7.78-7.78 2.81-2.81c.8-.78.8-2.07 0-2.86zM5.41 20L4 18.59l7.72-7.72 1.47 1.35L5.41 20z\"/>\n",
              "  </svg>\n",
              "      </button>\n",
              "      \n",
              "  <style>\n",
              "    .colab-df-container {\n",
              "      display:flex;\n",
              "      flex-wrap:wrap;\n",
              "      gap: 12px;\n",
              "    }\n",
              "\n",
              "    .colab-df-convert {\n",
              "      background-color: #E8F0FE;\n",
              "      border: none;\n",
              "      border-radius: 50%;\n",
              "      cursor: pointer;\n",
              "      display: none;\n",
              "      fill: #1967D2;\n",
              "      height: 32px;\n",
              "      padding: 0 0 0 0;\n",
              "      width: 32px;\n",
              "    }\n",
              "\n",
              "    .colab-df-convert:hover {\n",
              "      background-color: #E2EBFA;\n",
              "      box-shadow: 0px 1px 2px rgba(60, 64, 67, 0.3), 0px 1px 3px 1px rgba(60, 64, 67, 0.15);\n",
              "      fill: #174EA6;\n",
              "    }\n",
              "\n",
              "    [theme=dark] .colab-df-convert {\n",
              "      background-color: #3B4455;\n",
              "      fill: #D2E3FC;\n",
              "    }\n",
              "\n",
              "    [theme=dark] .colab-df-convert:hover {\n",
              "      background-color: #434B5C;\n",
              "      box-shadow: 0px 1px 3px 1px rgba(0, 0, 0, 0.15);\n",
              "      filter: drop-shadow(0px 1px 2px rgba(0, 0, 0, 0.3));\n",
              "      fill: #FFFFFF;\n",
              "    }\n",
              "  </style>\n",
              "\n",
              "      <script>\n",
              "        const buttonEl =\n",
              "          document.querySelector('#df-2023099f-0b9c-48ad-88fd-d6ab182ac11e button.colab-df-convert');\n",
              "        buttonEl.style.display =\n",
              "          google.colab.kernel.accessAllowed ? 'block' : 'none';\n",
              "\n",
              "        async function convertToInteractive(key) {\n",
              "          const element = document.querySelector('#df-2023099f-0b9c-48ad-88fd-d6ab182ac11e');\n",
              "          const dataTable =\n",
              "            await google.colab.kernel.invokeFunction('convertToInteractive',\n",
              "                                                     [key], {});\n",
              "          if (!dataTable) return;\n",
              "\n",
              "          const docLinkHtml = 'Like what you see? Visit the ' +\n",
              "            '<a target=\"_blank\" href=https://colab.research.google.com/notebooks/data_table.ipynb>data table notebook</a>'\n",
              "            + ' to learn more about interactive tables.';\n",
              "          element.innerHTML = '';\n",
              "          dataTable['output_type'] = 'display_data';\n",
              "          await google.colab.output.renderOutput(dataTable, element);\n",
              "          const docLink = document.createElement('div');\n",
              "          docLink.innerHTML = docLinkHtml;\n",
              "          element.appendChild(docLink);\n",
              "        }\n",
              "      </script>\n",
              "    </div>\n",
              "  </div>\n",
              "  "
            ]
          },
          "metadata": {},
          "execution_count": 5
        }
      ]
    },
    {
      "cell_type": "code",
      "source": [
        "# dropping all record with at least one missing value\n",
        "df = df.dropna()"
      ],
      "metadata": {
        "id": "vJ8c0832rrhG"
      },
      "execution_count": null,
      "outputs": []
    },
    {
      "cell_type": "code",
      "source": [
        "# loading all values intp an array\n",
        "X = df.iloc[:, :2].values\n",
        "Y = df.iloc[:, 3].values\n",
        "print(df.columns.get_loc('Credit_Score'))\n",
        "print(df.iloc[:, 2].values)"
      ],
      "metadata": {
        "colab": {
          "base_uri": "https://localhost:8080/"
        },
        "id": "oHduUMgZw-tP",
        "outputId": "bc5830f3-5358-4b86-990e-7b2d0ec8cf21"
      },
      "execution_count": null,
      "outputs": [
        {
          "output_type": "stream",
          "name": "stdout",
          "text": [
            "2\n",
            "[758 834 587 ... 702 737 830]\n"
          ]
        }
      ]
    },
    {
      "cell_type": "code",
      "source": [
        "#Import train_test_split function\n",
        "from sklearn.model_selection import train_test_split\n",
        "\n",
        "#split dataset into training set and test set\n",
        "#70% training and 30% test\n",
        "X_train, X_test, y_train, y_test=train_test_split(X, Y, test_size=0.2) "
      ],
      "metadata": {
        "id": "k96TxWG6xTgw"
      },
      "execution_count": null,
      "outputs": []
    },
    {
      "cell_type": "code",
      "source": [
        "#Generating a model with K=13\n",
        "#Import k-nearest neighbors classifier model\n",
        "from sklearn.neighbors import KNeighborsClassifier\n",
        "\n",
        "#Create KNN Classifier\n",
        "knn=KNeighborsClassifier(n_neighbors=13)\n",
        "\n",
        "#Train the model using the training sets\n",
        "knn.fit(X_train,y_train)\n",
        "\n",
        "#Predict the response for test dataset\n",
        "y_pred=knn.predict(X_test)"
      ],
      "metadata": {
        "id": "vPP6vHSRxWHD"
      },
      "execution_count": null,
      "outputs": []
    },
    {
      "cell_type": "code",
      "source": [
        "#Import scikit-learn metrics module for accuracy calculation\n",
        "from sklearn import metrics\n",
        "\n",
        "#Model accuracy, how often is the classifier correct?\n",
        "print(\"Accuracy:\", metrics.accuracy_score(y_test, y_pred))"
      ],
      "metadata": {
        "id": "lky13Nsfxa3J",
        "colab": {
          "base_uri": "https://localhost:8080/"
        },
        "outputId": "486803fe-eab5-4a0e-eac2-44c8911989eb"
      },
      "execution_count": null,
      "outputs": [
        {
          "output_type": "stream",
          "name": "stdout",
          "text": [
            "Accuracy: 0.04335422693667631\n"
          ]
        }
      ]
    },
    {
      "cell_type": "markdown",
      "source": [
        "Dear Boss man, \n",
        "\n",
        "The machine learning algorithm I have developed to predict if a new borrower will default on their loan. This algorithm uses data to make accurate predictions, giving us the ability to make informed decisions about which borrowers will default on thier loan. The algorithm is based on borrower's credit score, income, debt to income ratio. This will be significant to the business by allowing us reduce the business's overall risk.\n",
        "\n",
        "best,\n",
        "\n",
        "Irvin Del Rio"
      ],
      "metadata": {
        "id": "CHrY1rQesRzJ"
      }
    }
  ]
}